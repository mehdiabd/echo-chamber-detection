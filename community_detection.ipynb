{
 "cells": [
  {
   "cell_type": "markdown",
   "metadata": {},
   "source": [
    "# \"Community Detection\"\n",
    "## on sample social graph\n",
    "### via \"NetworkX\" and \"community-louvain\" (aka python-louvain) library"
   ]
  },
  {
   "cell_type": "code",
   "execution_count": null,
   "metadata": {},
   "outputs": [],
   "source": [
    "!pip install networkx python-louvain matplotlib"
   ]
  },
  {
   "cell_type": "markdown",
   "metadata": {},
   "source": [
    "# CLASSIC Approach: Louvain Detector"
   ]
  },
  {
   "cell_type": "code",
   "execution_count": null,
   "metadata": {},
   "outputs": [],
   "source": [
    "import networkx as nx\n",
    "import community as community_louvain\n",
    "\n",
    "def detect_communities_louvain(G):\n",
    "    \"\"\"\n",
    "    Run Louvain algorithm on graph G and return partition.\n",
    "    G: networkx.Graph\n",
    "    Returns: dict mapping node → community_id\n",
    "    \"\"\"\n",
    "    partition = community_louvain.best_partition(G)\n",
    "    return partition"
   ]
  },
  {
   "cell_type": "markdown",
   "metadata": {},
   "source": [
    "# Plot"
   ]
  },
  {
   "cell_type": "code",
   "execution_count": null,
   "metadata": {},
   "outputs": [],
   "source": [
    "import matplotlib.pyplot as plt\n",
    "import networkx as nx\n",
    "import matplotlib.cm as cm\n",
    "\n",
    "def draw_partitioned_graph(G, partition, title=\"Louvain Community Detection\"):\n",
    "    \"\"\"\n",
    "    Visualize the graph with node colors based on community partition.\n",
    "    \"\"\"\n",
    "    pos = nx.spring_layout(G, seed=42)\n",
    "    cmap = cm.get_cmap('Set3', max(partition.values()) + 1)\n",
    "\n",
    "    nx.draw_networkx_nodes(G, pos, node_size=300,\n",
    "                           node_color=list(partition.values()),\n",
    "                           cmap=cmap)\n",
    "    nx.draw_networkx_edges(G, pos, alpha=0.4)\n",
    "    nx.draw_networkx_labels(G, pos, font_size=10)\n",
    "    plt.title(title)\n",
    "    plt.axis('off')\n",
    "    plt.tight_layout()\n",
    "    plt.show()"
   ]
  },
  {
   "cell_type": "markdown",
   "metadata": {},
   "source": [
    "# Main Louvain"
   ]
  },
  {
   "cell_type": "code",
   "execution_count": null,
   "metadata": {},
   "outputs": [],
   "source": [
    "import networkx as nx\n",
    "from community_detection.louvain_detector import detect_communities_louvain\n",
    "from utils.plot import draw_partitioned_graph\n",
    "\n",
    "# Generate test graph (Karate Club)\n",
    "G = nx.karate_club_graph()\n",
    "\n",
    "# Run Louvain algorithm\n",
    "partition = detect_communities_louvain(G)\n",
    "\n",
    "# Print community results\n",
    "for node, comm in partition.items():\n",
    "    print(f\"Node {node}: Community {comm}\")\n",
    "\n",
    "# Draw the result\n",
    "draw_partitioned_graph(G, partition)"
   ]
  },
  {
   "cell_type": "markdown",
   "metadata": {},
   "source": [
    "# HYBRID Approach\n",
    "# Apply Node2Vec + Clustering (instead of Louvain) to the Telegram user interaction graph."
   ]
  },
  {
   "cell_type": "markdown",
   "metadata": {},
   "source": [
    "🚀 What This Gives Us:\n",
    "\n",
    "\t•\tA flexible pipeline to detect communities from our Telegram/X data\n",
    "\t•\tA lightweight and scalable alternative to Louvain\n",
    "\t•\tA clear visual map of potential echo chambers\n",
    "\t•\tReady for sentiment analysis inside each community (next step in echo chamber detection)"
   ]
  },
  {
   "cell_type": "markdown",
   "metadata": {},
   "source": [
    "# 🔹 1. Build the Telegram interaction graph"
   ]
  },
  {
   "cell_type": "code",
   "execution_count": null,
   "metadata": {},
   "outputs": [],
   "source": [
    "messages = [\n",
    "    {\"sender\": \"user1\", \"reply_to\": \"user3\"},\n",
    "    {\"sender\": \"user2\", \"reply_to\": \"user1\"},\n",
    "    {\"sender\": \"user3\", \"reply_to\": \"user2\"},\n",
    "    # ...\n",
    "]"
   ]
  },
  {
   "cell_type": "markdown",
   "metadata": {},
   "source": [
    "## 📄 Build Graph from Message Data"
   ]
  },
  {
   "cell_type": "code",
   "execution_count": null,
   "metadata": {},
   "outputs": [],
   "source": [
    "import networkx as nx\n",
    "\n",
    "def build_user_graph(messages):\n",
    "    G = nx.DiGraph()  # or use nx.Graph() if interactions are symmetric\n",
    "    for msg in messages:\n",
    "        sender = msg.get(\"sender\")\n",
    "        replied = msg.get(\"reply_to\")\n",
    "        if sender and replied:\n",
    "            if G.has_edge(sender, replied):\n",
    "                G[sender][replied]['weight'] += 1\n",
    "            else:\n",
    "                G.add_edge(sender, replied, weight=1)\n",
    "    return G"
   ]
  },
  {
   "cell_type": "markdown",
   "metadata": {},
   "source": [
    "# 🔹 2. Generate Node2Vec Embeddings"
   ]
  },
  {
   "cell_type": "code",
   "execution_count": null,
   "metadata": {},
   "outputs": [],
   "source": [
    "from node2vec import Node2Vec\n",
    "\n",
    "def get_node_embeddings(G, dimensions=64):\n",
    "    node2vec = Node2Vec(G, dimensions=dimensions, walk_length=20, num_walks=100, workers=2)\n",
    "    model = node2vec.fit(window=10, min_count=1)\n",
    "    embeddings = [model.wv[str(node)] for node in G.nodes()]\n",
    "    return embeddings, list(G.nodes())"
   ]
  },
  {
   "cell_type": "markdown",
   "metadata": {},
   "source": [
    "# 🔹 3. Apply Clustering (KMeans)"
   ]
  },
  {
   "cell_type": "code",
   "execution_count": null,
   "metadata": {},
   "outputs": [],
   "source": [
    "from sklearn.cluster import KMeans\n",
    "\n",
    "def run_kmeans(embeddings, n_clusters=4):\n",
    "    kmeans = KMeans(n_clusters=n_clusters, random_state=42)\n",
    "    labels = kmeans.fit_predict(embeddings)\n",
    "    return labels"
   ]
  },
  {
   "cell_type": "markdown",
   "metadata": {},
   "source": [
    "# 🔹 4. Visualize Results"
   ]
  },
  {
   "cell_type": "code",
   "execution_count": null,
   "metadata": {},
   "outputs": [],
   "source": [
    "from sklearn.decomposition import PCA\n",
    "import matplotlib.pyplot as plt\n",
    "\n",
    "def visualize_embeddings(embeddings, labels, nodes):\n",
    "    reduced = PCA(n_components=2).fit_transform(embeddings)\n",
    "    plt.figure(figsize=(8,6))\n",
    "    for label in set(labels):\n",
    "        idx = [i for i, l in enumerate(labels) if l == label]\n",
    "        x = [reduced[i][0] for i in idx]\n",
    "        y = [reduced[i][1] for i in idx]\n",
    "        plt.scatter(x, y, label=f\"Community {label}\", s=100)\n",
    "    for i, node in enumerate(nodes):\n",
    "        plt.text(reduced[i][0], reduced[i][1], str(node), fontsize=8)\n",
    "    plt.title(\"Detected Communities (Node2Vec + KMeans)\")\n",
    "    plt.legend()\n",
    "    plt.tight_layout()\n",
    "    plt.show()"
   ]
  },
  {
   "cell_type": "markdown",
   "metadata": {},
   "source": [
    "# 🔚 5. Glue It All Together"
   ]
  },
  {
   "cell_type": "code",
   "execution_count": null,
   "metadata": {},
   "outputs": [],
   "source": [
    "# Sample message data (replace with real extracted messages)\n",
    "messages = [\n",
    "    {\"sender\": \"alice\", \"reply_to\": \"bob\"},\n",
    "    {\"sender\": \"carol\", \"reply_to\": \"alice\"},\n",
    "    {\"sender\": \"bob\", \"reply_to\": \"carol\"},\n",
    "    # Add your real data here\n",
    "]\n",
    "\n",
    "G = build_user_graph(messages)\n",
    "embeddings, nodes = get_node_embeddings(G)\n",
    "labels = run_kmeans(embeddings, n_clusters=3)\n",
    "visualize_embeddings(embeddings, labels, nodes)"
   ]
  }
 ],
 "metadata": {
  "language_info": {
   "name": "python"
  }
 },
 "nbformat": 4,
 "nbformat_minor": 2
}
