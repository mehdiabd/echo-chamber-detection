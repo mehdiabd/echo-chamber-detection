{
 "cells": [
  {
   "cell_type": "markdown",
   "metadata": {},
   "source": [
    "# X (Twitter) API Data Collection Using Tweepy"
   ]
  },
  {
   "cell_type": "code",
   "execution_count": null,
   "metadata": {},
   "outputs": [],
   "source": [
    "import tweepy\n",
    "\n",
    "# Twitter API credentials (replace with actual keys)\n",
    "API_KEY = \"your_api_key\"\n",
    "API_SECRET = \"your_api_secret\"\n",
    "ACCESS_TOKEN = \"your_access_token\"\n",
    "ACCESS_SECRET = \"your_access_secret\"\n",
    "\n",
    "# Authenticate with Twitter API\n",
    "auth = tweepy.OAuthHandler(API_KEY, API_SECRET)\n",
    "auth.set_access_token(ACCESS_TOKEN, ACCESS_SECRET)\n",
    "api = tweepy.API(auth, wait_on_rate_limit=True)\n",
    "\n",
    "# Collect recent tweets with a keyword\n",
    "query = \"climate change\"\n",
    "tweets = tweepy.Cursor(api.search_tweets, q=query, lang=\"en\", count=100).items(500)\n",
    "\n",
    "# Store data\n",
    "tweet_data = [{\"user\": tweet.user.screen_name, \"text\": tweet.text, \"date\": tweet.created_at} for tweet in tweets]\n",
    "\n",
    "# Print sample\n",
    "print(tweet_data[:5])"
   ]
  },
  {
   "cell_type": "markdown",
   "metadata": {},
   "source": [
    "# 📌 Telegram API Data Collection Using Telethon"
   ]
  },
  {
   "cell_type": "code",
   "execution_count": null,
   "metadata": {},
   "outputs": [],
   "source": [
    "from telethon import TelegramClient\n",
    "\n",
    "# Telegram API credentials (Get from https://my.telegram.org)\n",
    "API_ID = \"your_api_id\"\n",
    "API_HASH = \"your_api_hash\"\n",
    "PHONE_NUMBER = \"your_phone_number\"  # Required for authentication\n",
    "GROUP_OR_CHANNEL = \"your_channel_or_group\"  # Example: \"t.me/some_channel\" or its ID\n",
    "\n",
    "# Create a Telethon client\n",
    "client = TelegramClient(\"session_name\", API_ID, API_HASH)\n",
    "\n",
    "async def fetch_messages():\n",
    "    await client.start(PHONE_NUMBER)  # Log in if required\n",
    "    messages = []\n",
    "    \n",
    "    async for message in client.iter_messages(GROUP_OR_CHANNEL, limit=100):\n",
    "        messages.append({\n",
    "            \"id\": message.id,\n",
    "            \"sender\": message.sender_id,\n",
    "            \"text\": message.text,\n",
    "            \"date\": message.date\n",
    "        })\n",
    "\n",
    "    print(messages[:5])  # Display sample messages\n",
    "\n",
    "# Run the async function\n",
    "with client:\n",
    "    client.loop.run_until_complete(fetch_messages())"
   ]
  },
  {
   "cell_type": "markdown",
   "metadata": {},
   "source": [
    "# Web Scraping Example (If API Is Not Available)"
   ]
  },
  {
   "cell_type": "code",
   "execution_count": null,
   "metadata": {},
   "outputs": [],
   "source": [
    "import requests\n",
    "from bs4 import BeautifulSoup\n",
    "\n",
    "# Example: Scraping news articles\n",
    "url = \"https://example.com/news\"\n",
    "response = requests.get(url)\n",
    "soup = BeautifulSoup(response.text, \"html.parser\")\n",
    "\n",
    "# Extract headlines\n",
    "headlines = [h.text for h in soup.find_all(\"h2\")]\n",
    "print(headlines[:5])"
   ]
  }
 ],
 "metadata": {
  "language_info": {
   "name": "python"
  }
 },
 "nbformat": 4,
 "nbformat_minor": 2
}
