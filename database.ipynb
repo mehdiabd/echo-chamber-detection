{
 "cells": [
  {
   "cell_type": "markdown",
   "metadata": {},
   "source": [
    "# Set Up a Database (PostgreSQL Example)"
   ]
  },
  {
   "cell_type": "code",
   "execution_count": null,
   "metadata": {},
   "outputs": [],
   "source": [
    "import psycopg2\n",
    "\n",
    "# Database connection\n",
    "conn = psycopg2.connect(\n",
    "    dbname=\"echo_chamber_db\",\n",
    "    user=\"your_username\",\n",
    "    password=\"your_password\",\n",
    "    host=\"localhost\",\n",
    "    port=\"5432\"\n",
    ")\n",
    "cursor = conn.cursor()\n",
    "\n",
    "# Create table\n",
    "cursor.execute(\"\"\"\n",
    "    CREATE TABLE IF NOT EXISTS social_data (\n",
    "        id SERIAL PRIMARY KEY,\n",
    "        user_handle TEXT,\n",
    "        content TEXT,\n",
    "        timestamp TIMESTAMP\n",
    "    );\n",
    "\"\"\")\n",
    "\n",
    "conn.commit()\n",
    "print(\"Database setup complete!\")"
   ]
  },
  {
   "cell_type": "markdown",
   "metadata": {},
   "source": [
    "# Store and Insert Sample Data into Database"
   ]
  },
  {
   "cell_type": "code",
   "execution_count": null,
   "metadata": {},
   "outputs": [],
   "source": [
    "# Sample insert data function\n",
    "def insert_data(user_handle, content, timestamp):\n",
    "    cursor.execute(\"\"\"\n",
    "        INSERT INTO social_data (user_handle, content, timestamp) VALUES (%s, %s, %s);\n",
    "    \"\"\", (user_handle, content, timestamp))\n",
    "    conn.commit()\n",
    "\n",
    "# Example: Insert sample data\n",
    "insert_data(\"user123\", \"This is a sample tweet\", \"2025-03-11 12:00:00\")\n",
    "print(\"Sample data inserted!\")"
   ]
  }
 ],
 "metadata": {
  "language_info": {
   "name": "python"
  }
 },
 "nbformat": 4,
 "nbformat_minor": 2
}
